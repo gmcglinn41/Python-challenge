{
 "cells": [
  {
   "cell_type": "code",
   "execution_count": 16,
   "metadata": {},
   "outputs": [],
   "source": [
    " # import the os module\n",
    "import os\n",
    "import csv"
   ]
  },
  {
   "cell_type": "code",
   "execution_count": 17,
   "metadata": {},
   "outputs": [],
   "source": [
    "#Module for reading os files\n",
    "\n",
    "url=\"./Resources/election_data.csv\"\n",
    "\n",
    "#csvpath = ('..''Resources','election_data.csv')"
   ]
  },
  {
   "cell_type": "code",
   "execution_count": 19,
   "metadata": {},
   "outputs": [
    {
     "ename": "SyntaxError",
     "evalue": "unexpected EOF while parsing (<ipython-input-19-3bc1eba11185>, line 26)",
     "output_type": "error",
     "traceback": [
      "\u001b[1;36m  File \u001b[1;32m\"<ipython-input-19-3bc1eba11185>\"\u001b[1;36m, line \u001b[1;32m26\u001b[0m\n\u001b[1;33m    \u001b[0m\n\u001b[1;37m    ^\u001b[0m\n\u001b[1;31mSyntaxError\u001b[0m\u001b[1;31m:\u001b[0m unexpected EOF while parsing\n"
     ]
    }
   ],
   "source": [
    "#Set variables\n",
    "\n",
    "total_votes=0\n",
    "candidate_list=0\n",
    "\n",
    "with open(url) as csvfile:\n",
    "    # CSV reader specifies delimiter and variable that holds contents\n",
    "    csv_reader = csv.reader(csvfile, delimiter=',')\n",
    "    # read the header row\n",
    "    header = next (csv_reader) \n",
    "      \n",
    "    # Read each row of data after the header\n",
    "    for row in csv_reader:\n",
    "    #read each row after the header\n",
    "    #count the number of votes\n",
    "        total_votes +=1\n",
    "        \n",
    "    \n",
    "#print the analysis\n",
    "\n",
    "print(\"Election results\")\n",
    "print(\"-------------------\")\n",
    "print(\"Total Votes: \" + str(total_votes))\n",
    "print(\"-------------------\")\n",
    "print(str(csv_reader(row[10]))\n",
    "    "
   ]
  },
  {
   "cell_type": "code",
   "execution_count": null,
   "metadata": {},
   "outputs": [],
   "source": []
  },
  {
   "cell_type": "code",
   "execution_count": null,
   "metadata": {},
   "outputs": [],
   "source": []
  }
 ],
 "metadata": {
  "kernelspec": {
   "display_name": "Python 3",
   "language": "python",
   "name": "python3"
  },
  "language_info": {
   "codemirror_mode": {
    "name": "ipython",
    "version": 3
   },
   "file_extension": ".py",
   "mimetype": "text/x-python",
   "name": "python",
   "nbconvert_exporter": "python",
   "pygments_lexer": "ipython3",
   "version": "3.8.3"
  }
 },
 "nbformat": 4,
 "nbformat_minor": 4
}
