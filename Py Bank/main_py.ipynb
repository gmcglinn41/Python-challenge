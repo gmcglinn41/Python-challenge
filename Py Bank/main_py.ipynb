{
 "cells": [
  {
   "cell_type": "code",
   "execution_count": 1,
   "metadata": {},
   "outputs": [],
   "source": [
    "# import the os module\n",
    "\n",
    "import os"
   ]
  },
  {
   "cell_type": "code",
   "execution_count": 2,
   "metadata": {},
   "outputs": [],
   "source": [
    "# Module for reading CSV files\n",
    "import csv\n",
    "\n",
    "url=\"./Resources/budget_data.csv\"\n",
    "\n",
    "#csvpath = ('.','Resources','budget_data.csv')"
   ]
  },
  {
   "cell_type": "code",
   "execution_count": 11,
   "metadata": {},
   "outputs": [
    {
     "name": "stdout",
     "output_type": "stream",
     "text": [
      "Financial Analysis\n",
      "-----------------\n",
      "86\n",
      "----\n",
      "37514694\n",
      "----\n",
      "-2315 2\n",
      "----\n",
      "['Feb-2012', 1926159]\n",
      "['Sep-2013', -2196167]\n"
     ]
    }
   ],
   "source": [
    "# Open and read csv file\n",
    "\n",
    "with open(url) as csvfile:\n",
    "    # CSV reader specifies delimiter and variable that holds contents\n",
    "    csv_reader = csv.reader(csvfile, delimiter=',')\n",
    "    # read the header row\n",
    "    # read the header row\n",
    "    header = next (csv_reader) \n",
    "    \n",
    "    first_row = next(csv_reader)\n",
    "    \n",
    "    \n",
    "    #Set the variables\n",
    "    total_months = 0\n",
    "    total_net = 0\n",
    "    net_change_list = []\n",
    "    month_of_change = []\n",
    "    \n",
    "    total_months = total_months + 1\n",
    "    total_net += int(first_row[1])\n",
    "    prev_net = int(first_row[1])\n",
    "    greatest_increase = [\"\", 0] # new object to track increase\n",
    "    greatest_decrease = [\"\", 9999999999999999999] # new object to track decrease\n",
    "    total_net = 0\n",
    "\n",
    "    #go through the rows in reader\n",
    "    for row in csv_reader:\n",
    "                  \n",
    "    # Count the number of months\n",
    "        total_months = total_months + 1\n",
    "        total_net += int(row[1])\n",
    "\n",
    "        #Track the net change\n",
    "        net_change = int(row[1]) - prev_net\n",
    "        prev_net = int(row[1])\n",
    "        \n",
    "        #add net change list\n",
    "        net_change_list.append(net_change)\n",
    "        month_of_change.append(row[0])\n",
    "\n",
    "        # Calculate the greatest increase\n",
    "        if net_change > greatest_increase[1]:\n",
    "            greatest_increase[0] = row[0]\n",
    "            greatest_increase[1] = net_change\n",
    "\n",
    "        # Calculate the greatest decrease\n",
    "        if net_change < greatest_decrease[1]:\n",
    "            greatest_decrease[0] = row[0]\n",
    "            greatest_decrease[1] = net_change\n",
    "\n",
    "#calculating average change\n",
    "average_change=sum(net_change_list)/len(net_change_list)\n",
    "\n",
    "\n",
    "# printing all values\n",
    "\n",
    "print(\"Financial Analysis\")\n",
    "print(\"-----------------\")\n",
    "print(total_months)\n",
    "print(\"----\")\n",
    "print((total_net))\n",
    "print(\"----\")\n",
    "print(round(average_change),2)\n",
    "print(\"----\")\n",
    "print(greatest_increase)\n",
    "print(greatest_decrease)\n",
    "\n",
    "\n"
   ]
  },
  {
   "cell_type": "code",
   "execution_count": null,
   "metadata": {},
   "outputs": [],
   "source": [
    "#write to text file\n",
    "# Dependencies\n",
    "import os\n",
    "import csv\n",
    "\n",
    "# Specify the file to write to\n",
    "output_path = os.path.join(\".\", \"Analysis\", \"Output.csv\")\n",
    "\n",
    "# Open the file using \"write\" mode. Specify the variable to hold the contents\n",
    "with open(output_path, 'w') as csvfile:\n",
    "\n",
    "    # Initialize csv.writer\n",
    "    csvwriter = csv.writer(csvfile, delimiter=',')\n",
    "\n",
    "    # Write the first row (column headers)\n",
    "    csvwriter.writerow(['Financial Analysis'])\n",
    "\n",
    "    # Write the second row\n",
    "    csvwriter.writerow(['Total Months: '])\n",
    "    \n",
    "    #Write the third row\n",
    "    csvwrite.writerow(['Average change:'])\n",
    "    \n",
    "    \n"
   ]
  },
  {
   "cell_type": "code",
   "execution_count": null,
   "metadata": {},
   "outputs": [],
   "source": []
  },
  {
   "cell_type": "code",
   "execution_count": null,
   "metadata": {},
   "outputs": [],
   "source": []
  },
  {
   "cell_type": "code",
   "execution_count": null,
   "metadata": {},
   "outputs": [],
   "source": []
  },
  {
   "cell_type": "code",
   "execution_count": null,
   "metadata": {},
   "outputs": [],
   "source": []
  }
 ],
 "metadata": {
  "kernelspec": {
   "display_name": "Python 3",
   "language": "python",
   "name": "python3"
  },
  "language_info": {
   "codemirror_mode": {
    "name": "ipython",
    "version": 3
   },
   "file_extension": ".py",
   "mimetype": "text/x-python",
   "name": "python",
   "nbconvert_exporter": "python",
   "pygments_lexer": "ipython3",
   "version": "3.8.3"
  }
 },
 "nbformat": 4,
 "nbformat_minor": 4
}
